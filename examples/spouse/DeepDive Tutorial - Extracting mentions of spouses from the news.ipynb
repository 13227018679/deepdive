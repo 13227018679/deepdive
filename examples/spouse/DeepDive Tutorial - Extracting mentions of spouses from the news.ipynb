{
 "cells": [
  {
   "cell_type": "markdown",
   "metadata": {},
   "source": [
    "# DeepDive Tutorial <small>Extracting mentions of spouses from the news</small>\n",
    "\n",
    "In this tutorial, we show an example of a prototypical task that DeepDive is often applied to:\n",
    "extraction of _structured information_ from _unstructured or 'dark' data_ such as web pages, text documents, images, etc.\n",
    "While DeepDive can be used as a more general platform for statistical learning and data processing, most of the tooling described herein has been built for this type of use case, based on our experience of successfully applying DeepDive to [a variety of real-world problems of this type](http://deepdive.stanford.edu/showcase/apps).\n",
    "\n",
    "In this setting, our goal is to take in a set of unstructured (and/or structured) inputs, and populate a relational database table with extracted outputs, along with marginal probabilities for each extraction representing DeepDive's confidence in the extraction.\n",
    "More formally, we write a DeepDive application to extract mentions of _relations_ and their constituent _entities_ or _attributes_, according to a specified schema; this task is often referred to as **_relation extraction_**.*\n",
    "Accordingly, we'll walk through an example scenario where we wish to extract mentions of two people being spouses from news articles.\n",
    "\n",
    "The high-level steps we'll follow are:\n",
    "\n",
    "1. **Data processing.** First, we'll load the raw corpus, add NLP markups, extract a set of _candidate_ relation mentions, and a sparse _feature_ representation of each.\n",
    "\n",
    "2. **Distant supervision with data and rules.** Next, we'll use various strategies to provide _supervision_ for our dataset, so that we can use machine learning to learn the weights of a model.\n",
    "\n",
    "3. **Learning and inference: model specification.** Then, we'll specify the high-level configuration of our _model_.\n",
    "\n",
    "4. **Error analysis and debugging.** Finally, we'll show how to use DeepDive's labeling, error analysis and debugging tools.\n",
    "\n",
    "*_Note the distinction between extraction of true, i.e., factual, relations and extraction of mentions of relations.\n",
    "In this tutorial, we do the latter, however DeepDive supports further downstream methods for tackling the former task in a principled manner._\n",
    "\n",
    "\n",
    "Whenever something isn't clear, you can always refer to [the complete example code at `examples/spouse/`](https://github.com/HazyResearch/deepdive/tree/master/examples/spouse/) that contains everything shown in this document."
   ]
  },
  {
   "cell_type": "markdown",
   "metadata": {},
   "source": [
    "## 0. Preparation\n",
    "\n",
    "### 0.0. Installing DeepDive and tweaking notebook\n",
    "First of all, let's make sure DeepDive is installed and can be used from this notebook.\n",
    "See [DeepDive installation guide](http://deepdive.stanford.edu/installation) for more details."
   ]
  },
  {
   "cell_type": "code",
   "execution_count": 1,
   "metadata": {
    "collapsed": false
   },
   "outputs": [
    {
     "name": "stdout",
     "output_type": "stream",
     "text": [
      "env: PATH=/Profiles/netj/local/bin:/Profiles/netj/workspace/dd-nb/venv/bin:/Profiles/netj/bin:/Profiles/netj/workspace/homebrew/bin:/usr/local/bin:/usr/local/sbin:/usr/bin:/bin:/usr/sbin:/sbin:/usr/local/aria2/bin:/usr/local/git/bin:/Applications/Racket v5.2.1/bin:/usr/local/scala/bin:/Library/TeX/texbin\n",
      "env: PATH=/Profiles/netj/workspace/dd-nb/deepdive/bin:/Profiles/netj/workspace/dd-nb/venv/bin:/Profiles/netj/bin:/Profiles/netj/workspace/homebrew/bin:/usr/local/bin:/usr/local/sbin:/usr/bin:/bin:/usr/sbin:/sbin:/usr/local/aria2/bin:/usr/local/git/bin:/Applications/Racket v5.2.1/bin:/usr/local/scala/bin:/Library/TeX/texbin\n",
      "deepdive is /Profiles/netj/workspace/dd-nb/deepdive/bin/deepdive\r\n"
     ]
    }
   ],
   "source": [
    "# PATH needs correct setup to use DeepDive\n",
    "import os; PWD=os.getcwd(); HOME=os.environ[\"HOME\"]; PATH=os.environ[\"PATH\"]\n",
    "# home directory installation\n",
    "%env PATH=$HOME/local/bin:$PATH\n",
    "# notebook-local installation\n",
    "%env PATH=$PWD/deepdive/bin:$PATH\n",
    "\n",
    "!type deepdive\n",
    "no_deepdive_found = !type deepdive >/dev/null\n",
    "if no_deepdive_found: # install it next to this notebook\n",
    "    !bash -c 'PREFIX=\"$PWD\"/deepdive bash <(curl -fsSL git.io/getdeepdive) deepdive_from_release'"
   ]
  },
  {
   "cell_type": "markdown",
   "metadata": {},
   "source": [
    "We need to make sure this IPython/Jupyter notebook will work correctly with DeepDive:"
   ]
  },
  {
   "cell_type": "code",
   "execution_count": 2,
   "metadata": {
    "collapsed": false
   },
   "outputs": [],
   "source": [
    "# check if notebook kernel was launched in a Unicode locale\n",
    "import locale; LC_CTYPE = locale.getpreferredencoding()\n",
    "if LC_CTYPE != \"UTF-8\":\n",
    "    raise EnvironmentError(\"Notebook is running in '%s' encoding not compatible with DeepDive's Unicode output.\\n\\nPlease restart notebook in a UTF-8 locale with a command like the following:\\n\\n    LC_ALL=en_US.UTF-8 jupyter notebook\" % (LC_CTYPE))"
   ]
  },
  {
   "cell_type": "markdown",
   "metadata": {},
   "source": [
    "### 0.1. Declaring what to predict\n",
    "\n",
    "Above all, we shall tell DeepDive what we want to predict as a *random variable* in a language called *DDlog*, stored in a file `app.ddlog`:"
   ]
  },
  {
   "cell_type": "code",
   "execution_count": 3,
   "metadata": {
    "collapsed": false
   },
   "outputs": [
    {
     "name": "stdout",
     "output_type": "stream",
     "text": [
      "Writing app.ddlog\n"
     ]
    }
   ],
   "source": [
    "%%file app.ddlog\n",
    "## Random variable to predict #################################################\n",
    "\n",
    "# This application's goal is to predict whether a given pair of person mention\n",
    "# are indicating a spouse relationship or not.\n",
    "has_spouse?(\n",
    "    p1_id text,\n",
    "    p2_id text\n",
    ")."
   ]
  },
  {
   "cell_type": "markdown",
   "metadata": {},
   "source": [
    "In this notebook, we are going to write our application in this `app.ddlog` one part at a time.\n",
    "We can check if the code make sense by asking DeepDive to compile it.\n",
    "DeepDive automatically compiles our application whenever we execute things after making changes, but we can also do this manually by running:"
   ]
  },
  {
   "cell_type": "code",
   "execution_count": 4,
   "metadata": {
    "collapsed": false
   },
   "outputs": [
    {
     "name": "stdout",
     "output_type": "stream",
     "text": [
      "‘run/compiled’ -> ‘20160710/234008.884376000’\r\n"
     ]
    }
   ],
   "source": [
    "!deepdive compile"
   ]
  },
  {
   "cell_type": "markdown",
   "metadata": {},
   "source": [
    "### 0.2. Setting up a database\n",
    "\n",
    "Next, DeepDive will store all data—input, intermediate, output, etc.—in a relational database.\n",
    "Currently, Postgres and Greenplum are supported.\n",
    "For operating at a larger scale, Greenplum is strongly recommended.\n",
    "To set the location of this database, we need to configure a URL in the [`db.url` file](../examples/spouse/db.url), e.g.:"
   ]
  },
  {
   "cell_type": "code",
   "execution_count": 5,
   "metadata": {
    "collapsed": true
   },
   "outputs": [],
   "source": [
    "!echo 'postgresql://localhost/deepdive_spouse_$USER' >db.url"
   ]
  },
  {
   "cell_type": "markdown",
   "metadata": {},
   "source": [
    "If you have no running database yet, the following commands can quickly bring up a new PostgreSQL server to be used with DeepDive, storing all data at `run/database/postgresql` next to this notebook."
   ]
  },
  {
   "cell_type": "code",
   "execution_count": 6,
   "metadata": {
    "collapsed": false
   },
   "outputs": [
    {
     "name": "stdout",
     "output_type": "stream",
     "text": [
      "\r\n",
      "WARNING: enabling \"trust\" authentication for local connections\r\n",
      "You can change this by editing pg_hba.conf or using the option -A, or\r\n",
      "--auth-local and --auth-host, the next time you run initdb.\r\n"
     ]
    }
   ],
   "source": [
    "no_database_running = !deepdive db is_ready || echo $?\n",
    "if no_database_running:\n",
    "    PGDATA = \"run/database/postgresql\"\n",
    "    !mkdir -p $PGDATA; test -s $PGDATA/PG_VERSION || pg_ctl init -D $PGDATA >/dev/null\n",
    "    !nohup pg_ctl -D $PGDATA -l $PGDATA/logfile start >/dev/null"
   ]
  },
  {
   "cell_type": "markdown",
   "metadata": {},
   "source": [
    "_Note: DeepDive will drop and then create this database if run from scratch—beware of pointing to an existing populated one!_"
   ]
  },
  {
   "cell_type": "code",
   "execution_count": 7,
   "metadata": {
    "collapsed": false
   },
   "outputs": [
    {
     "name": "stdout",
     "output_type": "stream",
     "text": [
      "‘run/RUNNING’ -> ‘20160710/234014.810955000’\n",
      "2016-07-10 23:40:15.134982 process/init/app/run.sh\n",
      "‘run/FINISHED’ -> ‘20160710/234014.810955000’\n"
     ]
    }
   ],
   "source": [
    "!deepdive redo init/app"
   ]
  },
  {
   "cell_type": "markdown",
   "metadata": {},
   "source": [
    "## 1. Data processing\n",
    "\n",
    "In this section, we'll generate the traditional inputs of a statistical learning-type problem: candidate spouse relations, represented by a set of features, which we will aim to classify as _actual_ relation mentions or not.\n",
    "\n",
    "We'll do this in four basic steps:\n",
    "\n",
    "1. Loading raw input data\n",
    "2. Adding NLP markups\n",
    "3. Extracting candidate relation mentions\n",
    "4. Extracting features for each candidate\n",
    "\n"
   ]
  },
  {
   "cell_type": "markdown",
   "metadata": {},
   "source": [
    "### 1.1. Loading raw input data\n",
    "Our first task is to download and load the raw text of [a corpus of news articles provided by Signal Media](http://research.signalmedia.co/newsir16/signal-dataset.html) into an `articles` table in our database.\n",
    "\n",
    "Keeping the identifier of each article and its content in the table would be good enough.\n",
    "We can tell DeepDive to do this by declaring the schema of this `articles` table in our `app.ddlog` file; we add the following lines:"
   ]
  },
  {
   "cell_type": "code",
   "execution_count": 8,
   "metadata": {
    "collapsed": false
   },
   "outputs": [
    {
     "name": "stdout",
     "output_type": "stream",
     "text": [
      "Appending to app.ddlog\n"
     ]
    }
   ],
   "source": [
    "%%file -a app.ddlog\n",
    "\n",
    "## Input Data #################################################################\n",
    "articles(\n",
    "    id      text,\n",
    "    content text\n",
    ")."
   ]
  },
  {
   "cell_type": "markdown",
   "metadata": {},
   "source": [
    "DeepDive can use a script's output as a data source for loading data into the table if we follow a simple naming convention.\n",
    "We create a simple shell script at `input/articles.tsj.sh` that outputs the news articles in TSJ format (tab-separated JSONs) from the downloaded corpus."
   ]
  },
  {
   "cell_type": "code",
   "execution_count": 9,
   "metadata": {
    "collapsed": true
   },
   "outputs": [],
   "source": [
    "!mkdir -p input"
   ]
  },
  {
   "cell_type": "code",
   "execution_count": 10,
   "metadata": {
    "collapsed": false
   },
   "outputs": [
    {
     "name": "stdout",
     "output_type": "stream",
     "text": [
      "Writing input/articles.tsj.sh\n"
     ]
    }
   ],
   "source": [
    "%%file input/articles.tsj.sh\n",
    "#!/usr/bin/env bash\n",
    "set -euo pipefail\n",
    "cd \"$(dirname \"$0\")\"\n",
    "\n",
    "corpus=signalmedia/signalmedia-1m.jsonl\n",
    "[[ -e \"$corpus\" ]] || {\n",
    "    echo \"ERROR: Missing $PWD/$corpus\"\n",
    "    echo \"# Please Download it from http://research.signalmedia.co/newsir16/signal-dataset.html\"\n",
    "    echo\n",
    "    echo \"# Alternatively, use our sampled data by running:\"\n",
    "    echo \"deepdive load articles input/articles-100.tsv.bz2\"\n",
    "    echo\n",
    "    echo \"# Or, skipping all NLP markup processes by running:\"\n",
    "    echo \"deepdive create table sentences\"\n",
    "    echo \"deepdive load sentences\"\n",
    "    echo \"deepdive mark done sentences\"\n",
    "    false\n",
    "} >&2\n",
    "\n",
    "cat \"$corpus\" |\n",
    "#grep -E 'wife|husband|married' |\n",
    "#head -100 |\n",
    "jq -r '[.id, .content] | map(@json) | join(\"\\t\")'"
   ]
  },
  {
   "cell_type": "markdown",
   "metadata": {},
   "source": [
    "We need to mark the script as an executable so DeepDive can actually execute it:"
   ]
  },
  {
   "cell_type": "code",
   "execution_count": 11,
   "metadata": {
    "collapsed": true
   },
   "outputs": [],
   "source": [
    "!chmod +x input/articles.tsj.sh"
   ]
  },
  {
   "cell_type": "markdown",
   "metadata": {},
   "source": [
    "The aforementioned script reads a sample of the corpus (provided as lines of JSON objects), and then using the [jq](https://stedolan.github.io/jq/) language extracts the fields `id` (for article identifier) and `content` from each entry and format those into TSJ.\n",
    "We can uncomment the `grep` or `head` lines in between and apply some naive filter to subsample articles."
   ]
  },
  {
   "cell_type": "markdown",
   "metadata": {},
   "source": [
    "Now, we tell DeepDive to execute the steps to load the `articles` table using the `input/articles.tsj.sh` script.\n",
    "You must have the [full corpus](http://research.signalmedia.co/newsir16/signal-dataset.html) downloaded at `input/signalmedia/signalmedia-1m.jsonl` for the following to finish correctly."
   ]
  },
  {
   "cell_type": "code",
   "execution_count": 12,
   "metadata": {
    "collapsed": false
   },
   "outputs": [
    {
     "name": "stdout",
     "output_type": "stream",
     "text": [
      "\u001b[33mapp.ddlog: updated since last `deepdive compile`\n",
      "\u001b[0m‘run/compiled’ -> ‘20160710/234016.238455000’\n",
      "‘run/RUNNING’ -> ‘20160710/234017.602190000’\n",
      "2016-07-10 23:40:17.982163 process/init/relation/articles/run.sh\n",
      "\u001b[31m2016-07-10 23:40:17.981630 ################################################################################\n",
      "2016-07-10 23:40:17.982009 # Host: lg65-cl-09-imir.stanford.edu\n",
      "2016-07-10 23:40:17.982032 # DeepDive: deepdive v0.8.0-426-g63150dc (Darwin x86_64)\n",
      "2016-07-10 23:40:17.982045 export PATH='/Profiles/netj/workspace/dd-nb/deepdive/bin':\"$PATH\"\n",
      "2016-07-10 23:40:17.982058 export DEEPDIVE_PWD='/Profiles/netj/workspace/dd-nb'\n",
      "2016-07-10 23:40:17.982069 export DEEPDIVE_APP='/Profiles/netj/workspace/dd-nb'\n",
      "2016-07-10 23:40:17.982082 cd \"$DEEPDIVE_APP\"/run\n",
      "2016-07-10 23:40:17.982094 export DEEPDIVE_RUN_ID='20160710/234017.602190000'\n",
      "2016-07-10 23:40:17.982105 # Plan: 20160710/234017.602190000/plan.sh\n",
      "2016-07-10 23:40:17.982116 # Targets: articles\n",
      "2016-07-10 23:40:17.982128 ################################################################################\n",
      "2016-07-10 23:40:17.982140 \n",
      "2016-07-10 23:40:17.982151     # process/init/app/run.sh ####################################### last done: 2016-07-10T23:40:15-0700 (2s ago)\n",
      "2016-07-10 23:40:17.982163 process/init/relation/articles/run.sh ############################### last done: N/A\n",
      "2016-07-10 23:40:17.982175 ++ dirname process/init/relation/articles/run.sh\n",
      "2016-07-10 23:40:17.982187 + cd process/init/relation/articles\n",
      "2016-07-10 23:40:17.982198 + export DEEPDIVE_CURRENT_PROCESS_NAME=process/init/relation/articles\n",
      "2016-07-10 23:40:17.982209 + DEEPDIVE_CURRENT_PROCESS_NAME=process/init/relation/articles\n",
      "2016-07-10 23:40:17.982221 + deepdive create table articles\n",
      "2016-07-10 23:40:18.191017 CREATE TABLE\n",
      "2016-07-10 23:40:18.191618 + deepdive load articles\n",
      "2016-07-10 23:40:18.775038 Loading articles from input/articles.tsj.sh (tsj format)\n",
      "2016-07-10 23:40:18.785051 ERROR: Missing /Profiles/netj/workspace/dd-nb/input/signalmedia/signalmedia-1m.jsonl\n",
      "2016-07-10 23:40:18.785101 # Please Download it from http://research.signalmedia.co/newsir16/signal-dataset.html\n",
      "2016-07-10 23:40:18.785115 \n",
      "2016-07-10 23:40:18.785129 # Alternatively, use our sampled data by running:\n",
      "2016-07-10 23:40:18.785142 deepdive load articles input/articles-100.tsv.bz2\n",
      "2016-07-10 23:40:18.785176 \n",
      "2016-07-10 23:40:18.785200 # Or, skipping all NLP markup processes by running:\n",
      "2016-07-10 23:40:18.785213 deepdive create table sentences\n",
      "2016-07-10 23:40:18.785225 deepdive load sentences\n",
      "2016-07-10 23:40:18.785236 deepdive mark done sentences\n",
      "2016-07-10 23:40:18.888616 COPY 0\n",
      "\u001b[0m‘run/ABORTED’ -> ‘20160710/234017.602190000’\n"
     ]
    }
   ],
   "source": [
    "!deepdive redo articles"
   ]
  },
  {
   "cell_type": "markdown",
   "metadata": {},
   "source": [
    "Alternatively, a sample of 100 and 1000 articles can be downloaded from GitHub and loaded into DeepDive with the following command:"
   ]
  },
  {
   "cell_type": "code",
   "execution_count": 13,
   "metadata": {
    "collapsed": false
   },
   "outputs": [
    {
     "name": "stdout",
     "output_type": "stream",
     "text": [
      "  % Total    % Received % Xferd  Average Speed   Time    Time     Time  Current\n",
      "                                 Dload  Upload   Total   Spent    Left  Speed\n",
      "100   184  100   184    0     0    184      0  0:00:01 --:--:--  0:00:01   184\n",
      "100  135k  100  135k    0     0  87230      0  0:00:01  0:00:01 --:--:-- 87230\n",
      "CREATE TABLE\n",
      "Loading articles from input/articles-100.tsj.bz2 (tsj format)\n",
      "COPY 100\n"
     ]
    }
   ],
   "source": [
    "NUM_ARTICLES = 100\n",
    "ARTICLES_FILE = \"articles-%d.tsj.bz2\" % NUM_ARTICLES\n",
    "\n",
    "articles_not_done = !deepdive done articles || date\n",
    "if articles_not_done:\n",
    "    !cd input && curl -RLO \"https://github.com/HazyResearch/deepdive/raw/tab-separated-jsons/examples/spouse/input/\"$ARTICLES_FILE\n",
    "    !deepdive reload articles input/$ARTICLES_FILE"
   ]
  },
  {
   "cell_type": "markdown",
   "metadata": {},
   "source": [
    "After DeepDive finishes creating the table and then fetching and loading the data, we can take a look at the loaded data using the following `deepdive query` command, which enumerates the values for the `id` column of the `articles` table:"
   ]
  },
  {
   "cell_type": "code",
   "execution_count": 14,
   "metadata": {
    "collapsed": false
   },
   "outputs": [
    {
     "name": "stdout",
     "output_type": "stream",
     "text": [
      "                  id                  \r\n",
      "--------------------------------------\r\n",
      " ba44d0cd-bff2-4875-8036-86f37419b5e7\r\n",
      " c5f8a528-cc0f-4f3e-aaef-b9e3b6b00325\r\n",
      " 0d07e617-00d4-4866-aee2-0ae197ae366f\r\n",
      " ebcd41ea-e5b4-43a4-9e16-4406d81cfcda\r\n",
      " 7516303b-0db5-477d-9e5d-243a73865e39\r\n",
      " f6e047d0-e409-42a6-ab0e-13ab926719a6\r\n",
      " 15d53efb-2151-4164-aee0-cae51faedeeb\r\n",
      " fe6e8fcc-1128-4410-923d-f05c42174336\r\n",
      " 8b31ede3-0f3b-431a-86a3-342ee18cfd83\r\n",
      " 4336860e-fa87-4f54-b3ce-b4afb72c4acd\r\n",
      "(10 rows)\r\n",
      "\r\n"
     ]
    }
   ],
   "source": [
    "!deepdive query '|10 ?- articles(id, _).'"
   ]
  },
  {
   "cell_type": "markdown",
   "metadata": {},
   "source": [
    "### 1.2. Adding NLP markups\n",
    "Next, we'll use Stanford's [CoreNLP](http://stanfordnlp.github.io/CoreNLP/) natural language processing (NLP) system to add useful markups and structure to our input data.\n",
    "This step will split up our articles into sentences and their component _tokens_ (roughly, the words).\n",
    "Additionally, we'll get _lemmas_ (normalized word forms), _part-of-speech (POS) tags_, _named entity recognition (NER) tags_, and a dependency parse of the sentence.\n",
    "\n",
    "Let's first declare the output schema of this step in `app.ddlog`:"
   ]
  },
  {
   "cell_type": "code",
   "execution_count": 15,
   "metadata": {
    "collapsed": false
   },
   "outputs": [
    {
     "name": "stdout",
     "output_type": "stream",
     "text": [
      "Appending to app.ddlog\n"
     ]
    }
   ],
   "source": [
    "%%file -a app.ddlog\n",
    "\n",
    "## NLP markup #################################################################\n",
    "sentences(\n",
    "    doc_id         text,\n",
    "    sentence_index int,\n",
    "    tokens         json,\n",
    "    lemmas         json,\n",
    "    pos_tags       json,\n",
    "    ner_tags       json,\n",
    "    doc_offsets    json,\n",
    "    dep_types      json,\n",
    "    dep_tokens     json\n",
    ").\n"
   ]
  },
  {
   "cell_type": "markdown",
   "metadata": {},
   "source": [
    "Next, we declare a DDlog function which takes in the `doc_id` and `content` for an article and returns rows conforming to the sentences schema we just declared, using the **user-defined function (UDF)** in `udf/nlp_markup.sh`.\n",
    "We specify that this `nlp_markup` function should be run over each row from `articles`, and the output appended to `sentences`:"
   ]
  },
  {
   "cell_type": "code",
   "execution_count": 16,
   "metadata": {
    "collapsed": false
   },
   "outputs": [
    {
     "name": "stdout",
     "output_type": "stream",
     "text": [
      "Appending to app.ddlog\n"
     ]
    }
   ],
   "source": [
    "%%file -a app.ddlog\n",
    "\n",
    "function nlp_markup over (\n",
    "        doc_id  text,\n",
    "        content text\n",
    "    ) returns rows like sentences\n",
    "    implementation \"udf/nlp_markup.sh\" handles tsj lines.\n",
    "\n",
    "sentences += nlp_markup(doc_id, content) :-\n",
    "    articles(doc_id, content).\n"
   ]
  },
  {
   "cell_type": "markdown",
   "metadata": {},
   "source": [
    "This UDF `udf/nlp_markup.sh` is a Bash script which uses [our own wrapper around CoreNLP](https://github.com/HazyResearch/deepdive/tree/deepdive-corenlp/util/nlp)."
   ]
  },
  {
   "cell_type": "code",
   "execution_count": 17,
   "metadata": {
    "collapsed": true
   },
   "outputs": [],
   "source": [
    "!mkdir -p udf"
   ]
  },
  {
   "cell_type": "code",
   "execution_count": 18,
   "metadata": {
    "collapsed": false
   },
   "outputs": [
    {
     "name": "stdout",
     "output_type": "stream",
     "text": [
      "Writing udf/nlp_markup.sh\n"
     ]
    }
   ],
   "source": [
    "%%file udf/nlp_markup.sh\n",
    "#!/usr/bin/env bash\n",
    "# Parse documents in tab-separated JSONs input stream with CoreNLP\n",
    "#\n",
    "# $ deepdive corenlp install\n",
    "# $ deepdive corenlp start\n",
    "# $ deepdive env udf/nlp_markup.sh\n",
    "# $ deepdive corenlp stop\n",
    "##\n",
    "set -euo pipefail\n",
    "cd \"$(dirname \"$0\")\"\n",
    "\n",
    "# some configuration knobs for CoreNLP\n",
    ": ${CORENLP_PORT:=$(deepdive corenlp unique-port)}  # a CoreNLP server started ahead of time is shared across parallel UDF processes\n",
    "# See: http://stanfordnlp.github.io/CoreNLP/annotators.html\n",
    ": ${CORENLP_ANNOTATORS:=\"\n",
    "        tokenize\n",
    "        ssplit\n",
    "        pos\n",
    "        ner\n",
    "        lemma\n",
    "        depparse\n",
    "    \"}\n",
    "export CORENLP_PORT\n",
    "export CORENLP_ANNOTATORS\n",
    "\n",
    "# make sure CoreNLP server is available\n",
    "deepdive corenlp is-running || {\n",
    "    echo >&2 \"PLEASE MAKE SURE YOU HAVE RUN: deepdive corenlp start\"\n",
    "    false\n",
    "}\n",
    "\n",
    "# parse input with CoreNLP and output a row for every sentence\n",
    "deepdive corenlp parse-tsj docid+ content=nlp -- docid nlp |\n",
    "deepdive corenlp sentences-tsj docid content:nlp \\\n",
    "                            -- docid nlp.{index,tokens.{word,lemma,pos,ner,characterOffsetBegin}} \\\n",
    "                                     nlp.collapsed-dependencies.{dep_type,dep_token}\n"
   ]
  },
  {
   "cell_type": "markdown",
   "metadata": {},
   "source": [
    "Again, we mark it as executable for DeepDive to run it:"
   ]
  },
  {
   "cell_type": "code",
   "execution_count": 19,
   "metadata": {
    "collapsed": true
   },
   "outputs": [],
   "source": [
    "!chmod +x udf/nlp_markup.sh"
   ]
  },
  {
   "cell_type": "markdown",
   "metadata": {},
   "source": [
    "Before executing this NLP markup step, we need to launch the CoreNLP server in advance, which may take a while to install and load everything.\n",
    "Note that the CoreNLP library requires Java 8 to run."
   ]
  },
  {
   "cell_type": "code",
   "execution_count": 20,
   "metadata": {
    "collapsed": false
   },
   "outputs": [
    {
     "name": "stdout",
     "output_type": "stream",
     "text": [
      "CoreNLP already installed at /Profiles/netj/workspace/dd-nb/deepdive/lib/stanford-corenlp/corenlp\n",
      "env: CORENLP_JAVAOPTS=-Xmx4g\n",
      "CoreNLP server at CORENLP_PORT=10943 starting...\n",
      "CoreNLP server at CORENLP_PORT=10943 ready.\n",
      "To stop it after final use, run: deepdive corenlp stop\n",
      "To watch its log, run: deepdive corenlp watch-log\n"
     ]
    }
   ],
   "source": [
    "!deepdive corenlp install\n",
    "# If CoreNLP seems to take forever to start, retry after uncommenting the following line:\n",
    "%env CORENLP_JAVAOPTS=-Xmx4g\n",
    "!deepdive corenlp start"
   ]
  },
  {
   "cell_type": "code",
   "execution_count": 21,
   "metadata": {
    "collapsed": false,
    "scrolled": false
   },
   "outputs": [
    {
     "name": "stdout",
     "output_type": "stream",
     "text": [
      "\u001b[33mapp.ddlog: updated since last `deepdive compile`\n",
      "\u001b[0m‘run/compiled’ -> ‘20160710/234123.960912000’\n",
      "‘run/RUNNING’ -> ‘20160710/234127.590506000’\n",
      "2016-07-10 23:41:28.050430 process/ext_sentences_by_nlp_markup/run.sh\n",
      "2016-07-10 23:41:57.198980 deepdive mark 'done' data/sentences\n",
      "‘run/FINISHED’ -> ‘20160710/234127.590506000’\n"
     ]
    }
   ],
   "source": [
    "!deepdive redo sentences"
   ]
  },
  {
   "cell_type": "markdown",
   "metadata": {},
   "source": [
    "Now, if we take a look at a sample of the NLP markups, they will have tokens and NER tags that look like the following:"
   ]
  },
  {
   "cell_type": "code",
   "execution_count": 22,
   "metadata": {
    "collapsed": false
   },
   "outputs": [
    {
     "name": "stdout",
     "output_type": "stream",
     "text": [
      "                doc_id                | index |                                                                                                                           tokens                                                                                                                            |                                                                    ner_tags                                                                    \n",
      "--------------------------------------+-------+-------------------------------------------------------------------------------------------------------------------------------------------------------------------------------------------------------------------------------------------------------------+------------------------------------------------------------------------------------------------------------------------------------------------\n",
      " ba44d0cd-bff2-4875-8036-86f37419b5e7 |     0 | [\"Words\",\"kill\",\"or\",\"give\",\"life\",\";\",\"they\",\"are\",\"usually\",\"either\",\"poison\",\"or\",\"good\",\"fruit\",\".\"]                                                                                                                                                    | [\"O\",\"O\",\"O\",\"O\",\"O\",\"O\",\"O\",\"O\",\"O\",\"O\",\"O\",\"O\",\"O\",\"O\",\"O\"]\n",
      " ba44d0cd-bff2-4875-8036-86f37419b5e7 |     1 | [\"The\",\"words\",\"we\",\"speak\",\"are\",\"electromagnetic\",\"forces\",\"that\",\"usually\",\"reflect\",\"our\",\"inner\",\"attitude\",\".\"]                                                                                                                                       | [\"O\",\"O\",\"O\",\"O\",\"O\",\"O\",\"O\",\"O\",\"O\",\"O\",\"O\",\"O\",\"O\",\"O\"]\n",
      " ba44d0cd-bff2-4875-8036-86f37419b5e7 |     2 | [\"They\",\"contain\",\"the\",\"power\",\"of\",\"death\",\"and\",\"life\",\"and\",\"ultimately\",\"influence\",\"the\",\"world\",\"around\",\"us\",\".\"]                                                                                                                                   | [\"O\",\"O\",\"O\",\"O\",\"O\",\"O\",\"O\",\"O\",\"O\",\"O\",\"O\",\"O\",\"O\",\"O\",\"O\",\"O\"]\n",
      " ba44d0cd-bff2-4875-8036-86f37419b5e7 |     3 | [\"Augustus\",\"Woodbury\",\"once\",\"said\",\",\",\"``\",\"Scientific\",\"men\",\"tell\",\"us\",\"that\",\"every\",\"sound\",\"upon\",\"the\",\"surface\",\"of\",\"our\",\"own\",\"and\",\"other\",\"planets\",\"circulates\",\"in\",\"endless\",\"and\",\"ceaseless\",\"waves\",\"through\",\"infinite\",\"space\",\".\"] | [\"PERSON\",\"PERSON\",\"DATE\",\"O\",\"O\",\"O\",\"O\",\"O\",\"O\",\"O\",\"O\",\"O\",\"O\",\"O\",\"O\",\"O\",\"O\",\"O\",\"O\",\"O\",\"O\",\"O\",\"O\",\"O\",\"O\",\"O\",\"O\",\"O\",\"O\",\"O\",\"O\",\"O\"]\n",
      " ba44d0cd-bff2-4875-8036-86f37419b5e7 |     4 | [\"Certainly\",\"not\",\"less\",\"subtle\",\"is\",\"the\",\"influence\",\"of\",\"our\",\"words\",\"upon\",\"the\",\"life\",\"and\",\"character\",\"of\",\"the\",\"world\",\".\",\"''\"]                                                                                                             | [\"O\",\"O\",\"O\",\"O\",\"O\",\"O\",\"O\",\"O\",\"O\",\"O\",\"O\",\"O\",\"O\",\"O\",\"O\",\"O\",\"O\",\"O\",\"O\",\"O\"]\n",
      "(5 rows)\n",
      "\n"
     ]
    }
   ],
   "source": [
    "%%bash\n",
    "deepdive query '\n",
    "    doc_id, index, tokens, ner_tags | 5\n",
    "    ?- sentences(doc_id, index, tokens, lemmas, pos_tags, ner_tags, _, _, _).\n",
    "'"
   ]
  },
  {
   "cell_type": "markdown",
   "metadata": {},
   "source": [
    "### 1.3. Extracting candidate relation mentions\n",
    "\n",
    "#### Mentions of people\n",
    "Once again we first declare the schema:\n"
   ]
  },
  {
   "cell_type": "code",
   "execution_count": 23,
   "metadata": {
    "collapsed": false
   },
   "outputs": [
    {
     "name": "stdout",
     "output_type": "stream",
     "text": [
      "Appending to app.ddlog\n"
     ]
    }
   ],
   "source": [
    "%%file -a app.ddlog\n",
    "\n",
    "## Candidate mapping ##########################################################\n",
    "person_mention(\n",
    "    mention_id     text,\n",
    "    mention_text   text,\n",
    "    doc_id         text,\n",
    "    sentence_index int,\n",
    "    begin_index    int,\n",
    "    end_index      int\n",
    ").\n"
   ]
  },
  {
   "cell_type": "markdown",
   "metadata": {},
   "source": [
    "We will be storing each person as a row referencing a sentence with beginning and ending indexes.\n",
    "Again, we next declare a function that references a UDF and takes as input the sentence tokens and NER tags:"
   ]
  },
  {
   "cell_type": "code",
   "execution_count": 24,
   "metadata": {
    "collapsed": false
   },
   "outputs": [
    {
     "name": "stdout",
     "output_type": "stream",
     "text": [
      "Appending to app.ddlog\n"
     ]
    }
   ],
   "source": [
    "%%file -a app.ddlog\n",
    "\n",
    "function map_person_mention over (\n",
    "        doc_id         text,\n",
    "        sentence_index int,\n",
    "        tokens         text[],\n",
    "        ner_tags       text[]\n",
    "    ) returns rows like person_mention\n",
    "    implementation \"udf/map_person_mention.py\" handles tsj lines.\n"
   ]
  },
  {
   "cell_type": "markdown",
   "metadata": {},
   "source": [
    "We'll write a simple UDF in Python that will tag spans of contiguous tokens with the NER tag `PERSON` as person mentions (i.e., we'll essentially rely on CoreNLP's NER module).\n",
    "Note that we've already used a Bash script as a UDF, and indeed any programming language can be used.\n",
    "(DeepDive will just check the path specified in the top line, e.g., `#!/usr/bin/env python`.)\n",
    "However, DeepDive provides some convenient utilities for Python UDFs which handle all IO encoding/decoding.\n",
    "To write our UDF `udf/map_person_mention.py`, we'll start by specifying that our UDF will handle TSV lines (as specified in the DDlog above).\n",
    "Additionally, we'll specify the exact type schema of both input and output, which DeepDive will check for us:"
   ]
  },
  {
   "cell_type": "code",
   "execution_count": 25,
   "metadata": {
    "collapsed": false
   },
   "outputs": [
    {
     "name": "stdout",
     "output_type": "stream",
     "text": [
      "Writing udf/map_person_mention.py\n"
     ]
    }
   ],
   "source": [
    "%%file udf/map_person_mention.py\n",
    "#!/usr/bin/env python\n",
    "from deepdive import *\n",
    "\n",
    "@tsj_extractor\n",
    "@returns(lambda\n",
    "        mention_id       = \"text\",\n",
    "        mention_text     = \"text\",\n",
    "        doc_id           = \"text\",\n",
    "        sentence_index   = \"int\",\n",
    "        begin_index      = \"int\",\n",
    "        end_index        = \"int\",\n",
    "    :[])\n",
    "def extract(\n",
    "        doc_id         = \"text\",\n",
    "        sentence_index = \"int\",\n",
    "        tokens         = \"text[]\",\n",
    "        ner_tags       = \"text[]\",\n",
    "    ):\n",
    "    \"\"\"\n",
    "    Finds phrases that are continuous words tagged with PERSON.\n",
    "    \"\"\"\n",
    "    num_tokens = len(ner_tags)\n",
    "    # find all first indexes of series of tokens tagged as PERSON\n",
    "    first_indexes = (i for i in xrange(num_tokens) if ner_tags[i] == \"PERSON\" and (i == 0 or ner_tags[i-1] != \"PERSON\"))\n",
    "    for begin_index in first_indexes:\n",
    "        # find the end of the PERSON phrase (consecutive tokens tagged as PERSON)\n",
    "        end_index = begin_index + 1\n",
    "        while end_index < num_tokens and ner_tags[end_index] == \"PERSON\":\n",
    "            end_index += 1\n",
    "        end_index -= 1\n",
    "        # generate a mention identifier\n",
    "        mention_id = \"%s_%d_%d_%d\" % (doc_id, sentence_index, begin_index, end_index)\n",
    "        mention_text = \" \".join(map(lambda i: tokens[i], xrange(begin_index, end_index + 1)))\n",
    "        # Output a tuple for each PERSON phrase\n",
    "        yield [\n",
    "            mention_id,\n",
    "            mention_text,\n",
    "            doc_id,\n",
    "            sentence_index,\n",
    "            begin_index,\n",
    "            end_index,\n",
    "        ]\n"
   ]
  },
  {
   "cell_type": "code",
   "execution_count": 26,
   "metadata": {
    "collapsed": true
   },
   "outputs": [],
   "source": [
    "!chmod +x udf/map_person_mention.py"
   ]
  },
  {
   "cell_type": "markdown",
   "metadata": {},
   "source": [
    "Above, we write a simple function which extracts and tags all subsequences of tokens having the NER tag \"PERSON\".\n",
    "Note that the `extract` function must be a generator (i.e., use a `yield` statement to return output rows).\n",
    "\n",
    "Finally, we specify that the function will be applied to rows from the `sentences` table and append to the `person_mention` table:"
   ]
  },
  {
   "cell_type": "code",
   "execution_count": 27,
   "metadata": {
    "collapsed": false
   },
   "outputs": [
    {
     "name": "stdout",
     "output_type": "stream",
     "text": [
      "Appending to app.ddlog\n"
     ]
    }
   ],
   "source": [
    "%%file -a app.ddlog\n",
    "\n",
    "person_mention += map_person_mention(\n",
    "    doc_id, sentence_index, tokens, ner_tags\n",
    ") :-\n",
    "    sentences(doc_id, sentence_index, tokens, _, _, ner_tags, _, _, _).\n"
   ]
  },
  {
   "cell_type": "markdown",
   "metadata": {},
   "source": [
    "Again, to run, just compile and execute as in previous steps:"
   ]
  },
  {
   "cell_type": "code",
   "execution_count": 28,
   "metadata": {
    "collapsed": false,
    "scrolled": false
   },
   "outputs": [
    {
     "name": "stdout",
     "output_type": "stream",
     "text": [
      "\u001b[33mapp.ddlog: updated since last `deepdive compile`\n",
      "\u001b[0m‘run/compiled’ -> ‘20160710/234159.395013000’\n",
      "‘run/RUNNING’ -> ‘20160710/234201.207158000’\n",
      "2016-07-10 23:42:01.723234 process/ext_person_mention_by_map_person_mention/run.sh\n",
      "2016-07-10 23:42:04.560282 deepdive mark 'done' data/person_mention\n",
      "‘run/FINISHED’ -> ‘20160710/234201.207158000’\n"
     ]
    }
   ],
   "source": [
    "!deepdive redo person_mention"
   ]
  },
  {
   "cell_type": "code",
   "execution_count": 29,
   "metadata": {
    "collapsed": false
   },
   "outputs": [
    {
     "name": "stdout",
     "output_type": "stream",
     "text": [
      "        name        |                 doc                  | sentence | begin | end \n",
      "--------------------+--------------------------------------+----------+-------+-----\n",
      " Solomon            | ba44d0cd-bff2-4875-8036-86f37419b5e7 |       31 |     1 |   1\n",
      " Sugar Ray          | ba44d0cd-bff2-4875-8036-86f37419b5e7 |       38 |     9 |  10\n",
      " Sugar Ray Robinson | ba44d0cd-bff2-4875-8036-86f37419b5e7 |       43 |     3 |   5\n",
      " Sherlock           | 8b31ede3-0f3b-431a-86a3-342ee18cfd83 |       17 |     4 |   4\n",
      " Sherlock Holmes    | 8b31ede3-0f3b-431a-86a3-342ee18cfd83 |       17 |    10 |  11\n",
      " Betty Estenson     | 15d53efb-2151-4164-aee0-cae51faedeeb |        1 |    19 |  20\n",
      " Edwin              | 15d53efb-2151-4164-aee0-cae51faedeeb |        1 |    24 |  24\n",
      " Alex Kane          | c27a162d-f2d1-4bdb-84ba-0915a082775b |        2 |    10 |  11\n",
      " Philp Winchester   | c27a162d-f2d1-4bdb-84ba-0915a082775b |        2 |    13 |  14\n",
      " Ginny              | c27a162d-f2d1-4bdb-84ba-0915a082775b |        2 |    32 |  32\n",
      " Daisy Betts        | c27a162d-f2d1-4bdb-84ba-0915a082775b |        2 |    34 |  35\n",
      " Johnson            | c27a162d-f2d1-4bdb-84ba-0915a082775b |        3 |     9 |   9\n",
      " Wesley Snipes      | c27a162d-f2d1-4bdb-84ba-0915a082775b |        3 |    11 |  12\n",
      " Cassandra          | c27a162d-f2d1-4bdb-84ba-0915a082775b |        3 |    19 |  19\n",
      " Alex               | c27a162d-f2d1-4bdb-84ba-0915a082775b |        3 |    25 |  25\n",
      " John Rogers        | c27a162d-f2d1-4bdb-84ba-0915a082775b |        5 |    13 |  14\n",
      " Rogers             | c27a162d-f2d1-4bdb-84ba-0915a082775b |       12 |    16 |  16\n",
      " Wesley Snipes      | c27a162d-f2d1-4bdb-84ba-0915a082775b |       32 |     3 |   4\n",
      " Johnson            | c27a162d-f2d1-4bdb-84ba-0915a082775b |       32 |    21 |  21\n",
      " Snipes             | c27a162d-f2d1-4bdb-84ba-0915a082775b |       32 |    31 |  31\n",
      "(20 rows)\n",
      "\n"
     ]
    }
   ],
   "source": [
    "%%bash\n",
    "deepdive query '\n",
    "    name, doc, sentence, begin, end | 20\n",
    "    ?- person_mention(p_id, name, doc, sentence, begin, end).\n",
    "'"
   ]
  },
  {
   "cell_type": "markdown",
   "metadata": {},
   "source": [
    "#### Mentions of spouses (pairs of people)\n",
    "Next, we'll take all pairs of **non-overlapping person mentions that co-occur in a sentence with less than 5 people total,** and consider these as the set of potential ('candidate') spouse mentions.\n",
    "We thus filter out sentences with large numbers of people for the purposes of this tutorial; however, these could be included if desired.\n",
    "Again, to start, we declare the schema for our `spouse_candidate` table—here just the two names, and the two `person_mention` IDs referred to:\n",
    "\n"
   ]
  },
  {
   "cell_type": "code",
   "execution_count": 30,
   "metadata": {
    "collapsed": false
   },
   "outputs": [
    {
     "name": "stdout",
     "output_type": "stream",
     "text": [
      "Appending to app.ddlog\n"
     ]
    }
   ],
   "source": [
    "%%file -a app.ddlog\n",
    "\n",
    "spouse_candidate(\n",
    "    p1_id   text,\n",
    "    p1_name text,\n",
    "    p2_id   text,\n",
    "    p2_name text\n",
    ").\n"
   ]
  },
  {
   "cell_type": "markdown",
   "metadata": {},
   "source": [
    "Next, for this operation we don't use any UDF script, instead rely entirely on DDlog operations.\n",
    "We simply construct a table of person counts, and then do a join with our filtering conditions.\n",
    "In DDlog this looks like:"
   ]
  },
  {
   "cell_type": "code",
   "execution_count": 31,
   "metadata": {
    "collapsed": false
   },
   "outputs": [
    {
     "name": "stdout",
     "output_type": "stream",
     "text": [
      "Appending to app.ddlog\n"
     ]
    }
   ],
   "source": [
    "%%file -a app.ddlog\n",
    "\n",
    "num_people(doc_id, sentence_index, COUNT(p)) :-\n",
    "    person_mention(p, _, doc_id, sentence_index, _, _).\n",
    "\n",
    "spouse_candidate(p1, p1_name, p2, p2_name) :-\n",
    "    num_people(same_doc, same_sentence, num_p),\n",
    "    person_mention(p1, p1_name, same_doc, same_sentence, p1_begin, _),\n",
    "    person_mention(p2, p2_name, same_doc, same_sentence, p2_begin, _),\n",
    "    num_p < 5,\n",
    "    p1 < p2,\n",
    "    p1_name != p2_name,\n",
    "    p1_begin != p2_begin.\n"
   ]
  },
  {
   "cell_type": "markdown",
   "metadata": {},
   "source": [
    "Now, let's tell DeepDive to run what we have so far:"
   ]
  },
  {
   "cell_type": "code",
   "execution_count": 32,
   "metadata": {
    "collapsed": false,
    "scrolled": false
   },
   "outputs": [
    {
     "name": "stdout",
     "output_type": "stream",
     "text": [
      "\u001b[33mapp.ddlog: updated since last `deepdive compile`\n",
      "\u001b[0m‘run/compiled’ -> ‘20160710/234205.557531000’\n",
      "‘run/RUNNING’ -> ‘20160710/234207.180443000’\n",
      "2016-07-10 23:42:07.841833 process/ext_num_people/run.sh\n",
      "2016-07-10 23:42:08.137269 deepdive mark 'done' data/num_people\n",
      "2016-07-10 23:42:08.220692 process/ext_spouse_candidate/run.sh\n",
      "2016-07-10 23:42:08.465798 deepdive mark 'done' data/spouse_candidate\n",
      "‘run/FINISHED’ -> ‘20160710/234207.180443000’\n"
     ]
    }
   ],
   "source": [
    "!deepdive redo spouse_candidate"
   ]
  },
  {
   "cell_type": "code",
   "execution_count": 33,
   "metadata": {
    "collapsed": false
   },
   "outputs": [
    {
     "name": "stdout",
     "output_type": "stream",
     "text": [
      "      name1       |      name2       |                 doc                  | sentence \n",
      "------------------+------------------+--------------------------------------+----------\n",
      " Sherlock Holmes  | Sherlock         | 8b31ede3-0f3b-431a-86a3-342ee18cfd83 |       17\n",
      " Betty Estenson   | Edwin            | 15d53efb-2151-4164-aee0-cae51faedeeb |        1\n",
      " Alex Kane        | Philp Winchester | c27a162d-f2d1-4bdb-84ba-0915a082775b |        2\n",
      " Philp Winchester | Ginny            | c27a162d-f2d1-4bdb-84ba-0915a082775b |        2\n",
      " Alex Kane        | Ginny            | c27a162d-f2d1-4bdb-84ba-0915a082775b |        2\n",
      " Ginny            | Daisy Betts      | c27a162d-f2d1-4bdb-84ba-0915a082775b |        2\n",
      " Philp Winchester | Daisy Betts      | c27a162d-f2d1-4bdb-84ba-0915a082775b |        2\n",
      " Alex Kane        | Daisy Betts      | c27a162d-f2d1-4bdb-84ba-0915a082775b |        2\n",
      " Alex             | Johnson          | c27a162d-f2d1-4bdb-84ba-0915a082775b |        3\n",
      " Cassandra        | Johnson          | c27a162d-f2d1-4bdb-84ba-0915a082775b |        3\n",
      " Wesley Snipes    | Johnson          | c27a162d-f2d1-4bdb-84ba-0915a082775b |        3\n",
      " Wesley Snipes    | Cassandra        | c27a162d-f2d1-4bdb-84ba-0915a082775b |        3\n",
      " Cassandra        | Alex             | c27a162d-f2d1-4bdb-84ba-0915a082775b |        3\n",
      " Wesley Snipes    | Alex             | c27a162d-f2d1-4bdb-84ba-0915a082775b |        3\n",
      " Snipes           | Wesley Snipes    | c27a162d-f2d1-4bdb-84ba-0915a082775b |       32\n",
      " Johnson          | Wesley Snipes    | c27a162d-f2d1-4bdb-84ba-0915a082775b |       32\n",
      " Johnson          | Snipes           | c27a162d-f2d1-4bdb-84ba-0915a082775b |       32\n",
      " Johnson          | Rogers           | c27a162d-f2d1-4bdb-84ba-0915a082775b |       40\n",
      " Loughnane        | Howard           | c5f8a528-cc0f-4f3e-aaef-b9e3b6b00325 |       22\n",
      " Malcolm          | Paul Keating     | c5f8a528-cc0f-4f3e-aaef-b9e3b6b00325 |       23\n",
      "(20 rows)\n",
      "\n"
     ]
    }
   ],
   "source": [
    "%%bash\n",
    "deepdive query '\n",
    "    name1, name2, doc, sentence | 20\n",
    "    ?- spouse_candidate(p1, name1, p2, name2),\n",
    "       person_mention(p1, _, doc, sentence, _, _).\n",
    "'"
   ]
  },
  {
   "cell_type": "markdown",
   "metadata": {},
   "source": [
    "### 1.4. Extracting features for each candidate\n",
    "Finally, we will extract a set of **features** for each candidate:\n",
    "\n"
   ]
  },
  {
   "cell_type": "code",
   "execution_count": 34,
   "metadata": {
    "collapsed": false
   },
   "outputs": [
    {
     "name": "stdout",
     "output_type": "stream",
     "text": [
      "Appending to app.ddlog\n"
     ]
    }
   ],
   "source": [
    "%%file -a app.ddlog\n",
    "\n",
    "## Feature Extraction #########################################################\n",
    " \n",
    "# Feature extraction (using DDLIB via a UDF) at the relation level\n",
    "spouse_feature(\n",
    "    p1_id   text,\n",
    "    p2_id   text,\n",
    "    feature text\n",
    ").\n"
   ]
  },
  {
   "cell_type": "markdown",
   "metadata": {},
   "source": [
    "The goal here is to represent each spouse candidate mention by a set of attributes or **_features_** which capture at least the key aspects of the mention, and then let a machine learning model learn how much each feature is correlated with our decision variable ('is this a spouse mention?').\n",
    "For those who have worked with machine learning systems before, note that we are using a sparse storage representation-\n",
    "you could think of a spouse candidate `(p1_id, p2_id)` as being represented by a vector of length `L = COUNT(DISTINCT feature)`, consisting of all zeros except for at the indexes specified by the rows with key `(p1_id, p2_id)`.\n",
    "\n",
    "DeepDive includes an [automatic feature generation library, DDlib](http://deepdive.stanford.edu/gen_feats), which we will use here.\n",
    "Although many state-of-the-art [applications](http://deepdive.stanford.edu/showcase/apps) have been built using purely DDlib-generated features, others can be used and/or added as well.\n",
    "To use DDlib, we create a list of `ddlib.Word` objects, two `ddlib.Span` objects, and then use the function `get_generic_features_relation`, as shown in the following Python code for `udf/extract_spouse_features.py`:"
   ]
  },
  {
   "cell_type": "code",
   "execution_count": 35,
   "metadata": {
    "collapsed": false
   },
   "outputs": [
    {
     "name": "stdout",
     "output_type": "stream",
     "text": [
      "Writing udf/extract_spouse_features.py\n"
     ]
    }
   ],
   "source": [
    "%%file udf/extract_spouse_features.py\n",
    "#!/usr/bin/env python\n",
    "from deepdive import *\n",
    "import ddlib\n",
    "\n",
    "@tsj_extractor\n",
    "@returns(lambda\n",
    "        p1_id   = \"text\",\n",
    "        p2_id   = \"text\",\n",
    "        feature = \"text\",\n",
    "    :[])\n",
    "def extract(\n",
    "        p1_id          = \"text\",\n",
    "        p2_id          = \"text\",\n",
    "        p1_begin_index = \"int\",\n",
    "        p1_end_index   = \"int\",\n",
    "        p2_begin_index = \"int\",\n",
    "        p2_end_index   = \"int\",\n",
    "        doc_id         = \"text\",\n",
    "        sent_index     = \"int\",\n",
    "        tokens         = \"text[]\",\n",
    "        lemmas         = \"text[]\",\n",
    "        pos_tags       = \"text[]\",\n",
    "        ner_tags       = \"text[]\",\n",
    "        dep_types      = \"text[]\",\n",
    "        dep_parents    = \"int[]\",\n",
    "    ):\n",
    "    \"\"\"\n",
    "    Uses DDLIB to generate features for the spouse relation.\n",
    "    \"\"\"\n",
    "    # Create a DDLIB sentence object, which is just a list of DDLIB Word objects\n",
    "    sent = []\n",
    "    for i,t in enumerate(tokens):\n",
    "        sent.append(ddlib.Word(\n",
    "            begin_char_offset=None,\n",
    "            end_char_offset=None,\n",
    "            word=t,\n",
    "            lemma=lemmas[i],\n",
    "            pos=pos_tags[i],\n",
    "            ner=ner_tags[i],\n",
    "            dep_par=dep_parents[i] - 1,  # Note that as stored from CoreNLP 0 is ROOT, but for DDLIB -1 is ROOT\n",
    "            dep_label=dep_types[i]))\n",
    "\n",
    "    # Create DDLIB Spans for the two person mentions\n",
    "    p1_span = ddlib.Span(begin_word_id=p1_begin_index, length=(p1_end_index-p1_begin_index+1))\n",
    "    p2_span = ddlib.Span(begin_word_id=p2_begin_index, length=(p2_end_index-p2_begin_index+1))\n",
    "\n",
    "    # Generate the generic features using DDLIB\n",
    "    for feature in ddlib.get_generic_features_relation(sent, p1_span, p2_span):\n",
    "        yield [p1_id, p2_id, feature]\n"
   ]
  },
  {
   "cell_type": "code",
   "execution_count": 36,
   "metadata": {
    "collapsed": true
   },
   "outputs": [],
   "source": [
    "!chmod +x udf/extract_spouse_features.py"
   ]
  },
  {
   "cell_type": "markdown",
   "metadata": {},
   "source": [
    "Note that getting the input for this UDF requires joining the `person_mention` and `sentences` tables:\n"
   ]
  },
  {
   "cell_type": "code",
   "execution_count": 37,
   "metadata": {
    "collapsed": false
   },
   "outputs": [
    {
     "name": "stdout",
     "output_type": "stream",
     "text": [
      "Appending to app.ddlog\n"
     ]
    }
   ],
   "source": [
    "%%file -a app.ddlog\n",
    "\n",
    "function extract_spouse_features over (\n",
    "        p1_id          text,\n",
    "        p2_id          text,\n",
    "        p1_begin_index int,\n",
    "        p1_end_index   int,\n",
    "        p2_begin_index int,\n",
    "        p2_end_index   int,\n",
    "        doc_id         text,\n",
    "        sent_index     int,\n",
    "        tokens         text[],\n",
    "        lemmas         text[],\n",
    "        pos_tags       text[],\n",
    "        ner_tags       text[],\n",
    "        dep_types      text[],\n",
    "        dep_tokens     int[]\n",
    "    ) returns rows like spouse_feature\n",
    "    implementation \"udf/extract_spouse_features.py\" handles tsj lines.\n",
    "\n",
    "spouse_feature += extract_spouse_features(\n",
    "    p1_id, p2_id, p1_begin_index, p1_end_index, p2_begin_index, p2_end_index,\n",
    "    doc_id, sent_index, tokens, lemmas, pos_tags, ner_tags, dep_types, dep_tokens\n",
    ") :-\n",
    "    person_mention(p1_id, _, doc_id, sent_index, p1_begin_index, p1_end_index),\n",
    "    person_mention(p2_id, _, doc_id, sent_index, p2_begin_index, p2_end_index),\n",
    "    sentences(doc_id, sent_index, tokens, lemmas, pos_tags, ner_tags, _, dep_types, dep_tokens).\n"
   ]
  },
  {
   "cell_type": "markdown",
   "metadata": {},
   "source": [
    "Now, let's execute this UDF to get our features:"
   ]
  },
  {
   "cell_type": "code",
   "execution_count": 38,
   "metadata": {
    "collapsed": false,
    "scrolled": false
   },
   "outputs": [
    {
     "name": "stdout",
     "output_type": "stream",
     "text": [
      "\u001b[33mapp.ddlog: updated since last `deepdive compile`\n",
      "\u001b[0m‘run/compiled’ -> ‘20160710/234209.681609000’\n",
      "‘run/RUNNING’ -> ‘20160710/234211.355934000’\n",
      "2016-07-10 23:42:11.929661 process/ext_spouse_feature_by_extract_spouse_features/run.sh\n",
      "2016-07-10 23:42:18.217081 deepdive mark 'done' data/spouse_feature\n",
      "‘run/FINISHED’ -> ‘20160710/234211.355934000’\n"
     ]
    }
   ],
   "source": [
    "!deepdive redo spouse_feature"
   ]
  },
  {
   "cell_type": "markdown",
   "metadata": {},
   "source": [
    "If we take a look at a sample of the extracted features, they will look roughly like the following:"
   ]
  },
  {
   "cell_type": "code",
   "execution_count": 39,
   "metadata": {
    "collapsed": false
   },
   "outputs": [
    {
     "name": "stdout",
     "output_type": "stream",
     "text": [
      "                    feature                     \r\n",
      "------------------------------------------------\r\n",
      " IS_INVERTED\r\n",
      " INV_WORD_SEQ_[Jeff Renz]\r\n",
      " INV_LEMMA_SEQ_[Jeff Renz]\r\n",
      " INV_NER_SEQ_[PERSON PERSON]\r\n",
      " INV_POS_SEQ_[NNP NNP]\r\n",
      " INV_W_LEMMA_L_1_R_1_[,]_[help]\r\n",
      " INV_W_NER_L_1_R_1_[O]_[O]\r\n",
      " INV_W_LEMMA_L_1_R_2_[,]_[help pour]\r\n",
      " INV_W_NER_L_1_R_2_[O]_[O O]\r\n",
      " INV_W_LEMMA_L_1_R_3_[,]_[help pour cement]\r\n",
      " INV_W_NER_L_1_R_3_[O]_[O O O]\r\n",
      " INV_W_LEMMA_L_2_R_1_[day ,]_[help]\r\n",
      " INV_W_NER_L_2_R_1_[DATE O]_[O]\r\n",
      " INV_W_LEMMA_L_2_R_2_[day ,]_[help pour]\r\n",
      " INV_W_NER_L_2_R_2_[DATE O]_[O O]\r\n",
      " INV_W_LEMMA_L_2_R_3_[day ,]_[help pour cement]\r\n",
      " INV_W_NER_L_2_R_3_[DATE O]_[O O O]\r\n",
      " INV_W_LEMMA_L_3_R_1_[the day ,]_[help]\r\n",
      " INV_W_NER_L_3_R_1_[DATE DATE O]_[O]\r\n",
      " INV_W_LEMMA_L_3_R_2_[the day ,]_[help pour]\r\n",
      "(20 rows)\r\n",
      "\r\n"
     ]
    }
   ],
   "source": [
    "!deepdive query '| 20 ?- spouse_feature(_, _, feature).'"
   ]
  },
  {
   "cell_type": "markdown",
   "metadata": {},
   "source": [
    "Now we have generated what looks more like the standard input to a machine learning problem—a set of objects, represented by sets of features, which we want to classify (here, as true or false mentions of a spousal relation).\n",
    "However, we **don't have any supervised labels** (i.e., a set of correct answers) for a machine learning algorithm to learn from!\n",
    "In most real world applications, a sufficiently large set of supervised labels is _not_ available.\n",
    "With DeepDive, we take the approach sometimes referred to as _distant supervision_ or _data programming_, where we instead generate a **noisy set of labels using a mix of mappings from secondary datasets and other heuristic rules**."
   ]
  },
  {
   "cell_type": "markdown",
   "metadata": {},
   "source": [
    "## 2. Distant supervision with data and rules\n",
    "In this section, we'll use _distant supervision_ (or '_data programming_') to provide a noisy set of labels for candidate relation mentions, with which we will train a machine learning model.\n",
    "\n",
    "We'll describe two basic categories of approaches:\n",
    "\n",
    "1. Mapping from secondary data for distant supervision\n",
    "2. Using heuristic rules for distant supervision\n",
    "\n",
    "Finally, we'll describe a simple majority-vote approach to resolving multiple labels per example, which can be implemented within DDlog.\n",
    "\n"
   ]
  },
  {
   "cell_type": "markdown",
   "metadata": {},
   "source": [
    "### 2.1. Mapping from secondary data for distant supervision\n",
    "First, we'll try using an external structured dataset of known married couples, from [DBpedia](http://wiki.dbpedia.org/), to distantly supervise our dataset.\n",
    "We'll download the relevant data, and then map it to our candidate spouse relations.\n"
   ]
  },
  {
   "cell_type": "markdown",
   "metadata": {},
   "source": [
    "#### Extracting and downloading the DBpedia data\n",
    "Our goal is to first extract a collection of known married couples from DBpedia and then load this into the `spouses_dbpedia` table in our database.\n",
    "To extract known married couples, we use the DBpedia dump present in [Google's BigQuery platform](https://bigquery.cloud.google.com).\n",
    "First we extract the URI, name and spouse information from the DBpedia `person` table records in BigQuery for which the field `name` is not NULL.\n",
    "We use the following query:\n",
    "\n",
    "```sql\n",
    "SELECT URI,name, spouse\n",
    "FROM [fh-bigquery:dbpedia.person]\n",
    "where name <> \"NULL\"\n",
    "```\n",
    "\n",
    "We store the result of the above query in a local project table `dbpedia.validnames` and perform a self-join to obtain the pairs of married couples.\n",
    "\n",
    "```sql\n",
    "SELECT t1.name, t2.name\n",
    "FROM [dbpedia.validnames] AS t1\n",
    "JOIN EACH [dbpedia.validnames] AS t2\n",
    "ON t1.spouse = t2.URI\n",
    "```\n",
    "\n",
    "The output of the above query is stored in a new table named `dbpedia.spouseraw`.\n",
    "Finally, we use the following query to remove symmetric duplicates.\n",
    "\n",
    "```sql\n",
    "SELECT p1, p2\n",
    "FROM (SELECT t1_name as p1, t2_name as p2 FROM [dbpedia.spouseraw]),\n",
    "     (SELECT t2_name as p1, t1_name as p2 FROM [dbpedia.spouseraw])\n",
    "WHERE p1 < p2\n",
    "```\n",
    "\n",
    "The output of this query is stored in a local file.\n",
    "The file contains duplicate rows (BigQuery does not support `distinct`).\n",
    "It also contains noisy rows where the name field contains a string where the given name family name and multiple aliases were concatenated and reported in a string including the characters `{` and `}`.\n",
    "Using the Unix commands `sed`, `sort` and `uniq` we first remove the lines containing characters `{` and `}` and then duplicate entries.\n",
    "This results in an input file `spouses_dbpedia.csv` containing 6,126 entries of married couples.\n",
    "\n",
    "*Note that we made this [`spouses_dbpedia.csv` available for download from GitHub](https://github.com/HazyResearch/deepdive/blob/master/examples/spouse/input/spouses_dbpedia.csv.bz2), so you don't have to repeat the above process.*"
   ]
  },
  {
   "cell_type": "markdown",
   "metadata": {},
   "source": [
    "#### Loading DBpedia data to database\n",
    "\n",
    "To load the known married couples data into DeepDive, we first declare the schema in DDlog:"
   ]
  },
  {
   "cell_type": "code",
   "execution_count": 40,
   "metadata": {
    "collapsed": false
   },
   "outputs": [
    {
     "name": "stdout",
     "output_type": "stream",
     "text": [
      "Appending to app.ddlog\n"
     ]
    }
   ],
   "source": [
    "%%file -a app.ddlog\n",
    "\n",
    "## Distant Supervision ########################################################\n",
    "\n",
    "spouses_dbpedia(\n",
    "    person1_name text,\n",
    "    person2_name text\n",
    ")."
   ]
  },
  {
   "cell_type": "markdown",
   "metadata": {},
   "source": [
    "Notice that we can easily load the data in `spouses_dbpedia.csv` data to the table we just declared if we follow DeepDive's convention of organizing input data under `input/` directory.\n",
    "The input file name simply needs to start with the target database table name.\n",
    "Let's download the file from GitHub to `input/spouses_dbpedia.csv.bz2` under our application:"
   ]
  },
  {
   "cell_type": "code",
   "execution_count": 41,
   "metadata": {
    "collapsed": false
   },
   "outputs": [
    {
     "name": "stdout",
     "output_type": "stream",
     "text": [
      "  % Total    % Received % Xferd  Average Speed   Time    Time     Time  Current\n",
      "                                 Dload  Upload   Total   Spent    Left  Speed\n",
      "100   174  100   174    0     0    166      0  0:00:01  0:00:01 --:--:--   166\n",
      "100 77463  100 77463    0     0  44579      0  0:00:01  0:00:01 --:--:-- 17.9M\n"
     ]
    }
   ],
   "source": [
    "!cd input && curl -RLO \"https://github.com/HazyResearch/deepdive/raw/master/examples/spouse/input/spouses_dbpedia.csv.bz2\""
   ]
  },
  {
   "cell_type": "markdown",
   "metadata": {},
   "source": [
    "Then execute this command to load it into the database:"
   ]
  },
  {
   "cell_type": "code",
   "execution_count": 42,
   "metadata": {
    "collapsed": false
   },
   "outputs": [
    {
     "name": "stdout",
     "output_type": "stream",
     "text": [
      "\u001b[33mapp.ddlog: updated since last `deepdive compile`\n",
      "\u001b[0m‘run/compiled’ -> ‘20160710/234221.220035000’\n",
      "‘run/RUNNING’ -> ‘20160710/234222.876585000’\n",
      "2016-07-10 23:42:23.252587 process/init/relation/spouses_dbpedia/run.sh\n",
      "2016-07-10 23:42:24.254469 deepdive mark 'done' data/spouses_dbpedia\n",
      "‘run/FINISHED’ -> ‘20160710/234222.876585000’\n"
     ]
    }
   ],
   "source": [
    "!deepdive redo spouses_dbpedia"
   ]
  },
  {
   "cell_type": "markdown",
   "metadata": {},
   "source": [
    "Now the database should include tuples that look like the following:\n"
   ]
  },
  {
   "cell_type": "code",
   "execution_count": 43,
   "metadata": {
    "collapsed": false
   },
   "outputs": [
    {
     "name": "stdout",
     "output_type": "stream",
     "text": [
      "        name1         |                  name2                  \r\n",
      "----------------------+-----------------------------------------\r\n",
      " 20th Earl of Arundel | Anne Howard Countess of Arundel\r\n",
      " Aadesh Shrivastava   | Vijayta Pandit\r\n",
      " Aafia Siddiqui       | Amjad Mohammed Khan\r\n",
      " A. A. Gill           | Amber Rudd\r\n",
      " Aamir Ali Malik      | Sanjeeda Shaikh\r\n",
      " Aamir Khan           | Kiran Rao\r\n",
      " Aarón Díaz           | Kate del Castillo\r\n",
      " Aaron Hotchner       | Beth Clemmons\r\n",
      " Aaron Spelling       | Carolyn Jones\r\n",
      " Aaron Staton         | Connie Fletcher\r\n",
      " Aarti Bajaj          | Anurag Kashyap\r\n",
      " Abbas                | Erum Ali\r\n",
      " Abbas Tyrewala       | Pakhi Tyrewala\r\n",
      " Abbe Lane            | Xavier Cugat\r\n",
      " Abbie G. Rogers      | Henry Huttleston Rogers\r\n",
      " Abby Jimenez         | Ramon Jimenez Jr.\r\n",
      " Abby Lockhart        | Luka Kovač\r\n",
      " Abby McDeere         | Mitch McDeere\r\n",
      " Abdel Hakim Amer     | Berlenti Abdul Hamid  برلنتي عبد الحميد\r\n",
      " Abdoulaye Wade       | Viviane Wade\r\n",
      "(20 rows)\r\n",
      "\r\n"
     ]
    }
   ],
   "source": [
    "!deepdive query '| 20 ?- spouses_dbpedia(name1, name2).'"
   ]
  },
  {
   "cell_type": "markdown",
   "metadata": {},
   "source": [
    "#### Supervising spouse candidates with DBpedia data\n",
    "First we'll declare a new table where we'll store the labels (referring to the spouse candidate mentions), with an integer value (`True=1, False=-1`) and a description (`rule_id`):\n"
   ]
  },
  {
   "cell_type": "code",
   "execution_count": 44,
   "metadata": {
    "collapsed": false
   },
   "outputs": [
    {
     "name": "stdout",
     "output_type": "stream",
     "text": [
      "Appending to app.ddlog\n"
     ]
    }
   ],
   "source": [
    "%%file -a app.ddlog\n",
    "\n",
    "spouse_label(\n",
    "    p1_id   text,\n",
    "    p2_id   text,\n",
    "    label   int,\n",
    "    rule_id text\n",
    ")."
   ]
  },
  {
   "cell_type": "markdown",
   "metadata": {},
   "source": [
    "Let's put all the spouse candidate mentions with a `NULL` label.  This is just for simplifying some steps later:"
   ]
  },
  {
   "cell_type": "code",
   "execution_count": 45,
   "metadata": {
    "collapsed": false
   },
   "outputs": [
    {
     "name": "stdout",
     "output_type": "stream",
     "text": [
      "Appending to app.ddlog\n"
     ]
    }
   ],
   "source": [
    "%%file -a app.ddlog\n",
    "\n",
    "# make sure all pairs in spouse_candidate are considered as unsupervised examples\n",
    "spouse_label(p1,p2, 0, NULL) :-\n",
    "    spouse_candidate(p1, _, p2, _).\n"
   ]
  },
  {
   "cell_type": "markdown",
   "metadata": {},
   "source": [
    "Next we'll implement a simple distant supervision rule which labels any spouse mention candidate with a pair of names appearing in DBpedia as true:"
   ]
  },
  {
   "cell_type": "code",
   "execution_count": 46,
   "metadata": {
    "collapsed": false
   },
   "outputs": [
    {
     "name": "stdout",
     "output_type": "stream",
     "text": [
      "Appending to app.ddlog\n"
     ]
    }
   ],
   "source": [
    "%%file -a app.ddlog\n",
    "\n",
    "# distant supervision using data from DBpedia\n",
    "spouse_label(p1,p2, 1, \"from_dbpedia\") :-\n",
    "    spouse_candidate(p1, p1_name, p2, p2_name),\n",
    "    spouses_dbpedia(n1, n2),\n",
    "    [ lower(n1) = lower(p1_name), lower(n2) = lower(p2_name) ;\n",
    "      lower(n2) = lower(p1_name), lower(n1) = lower(p2_name) ].\n"
   ]
  },
  {
   "cell_type": "markdown",
   "metadata": {},
   "source": [
    "It should be noted that there are many clear ways in which this rule could be improved (fuzzy matching, more restrictive conditions, etc.), but this serves as an example of one major type of distant supervision rule."
   ]
  },
  {
   "cell_type": "markdown",
   "metadata": {},
   "source": [
    "### 2.2. Using heuristic rules for distant supervision\n",
    "We can also create a supervision rule which does not rely on any secondary structured dataset like DBpedia, but instead just uses some heuristic.\n",
    "We set up a DDlog function, `supervise`, which uses a UDF containing several heuristic rules over the mention and sentence attributes:\n",
    "\n"
   ]
  },
  {
   "cell_type": "code",
   "execution_count": 47,
   "metadata": {
    "collapsed": false
   },
   "outputs": [
    {
     "name": "stdout",
     "output_type": "stream",
     "text": [
      "Appending to app.ddlog\n"
     ]
    }
   ],
   "source": [
    "%%file -a app.ddlog\n",
    "\n",
    "# supervision by heuristic rules in a UDF\n",
    "function supervise over (\n",
    "        p1_id text, p1_begin int, p1_end int,\n",
    "        p2_id text, p2_begin int, p2_end int,\n",
    "        doc_id         text,\n",
    "        sentence_index int,\n",
    "        sentence_text  text,\n",
    "        tokens         text[],\n",
    "        lemmas         text[],\n",
    "        pos_tags       text[],\n",
    "        ner_tags       text[],\n",
    "        dep_types      text[],\n",
    "        dep_tokens     int[]\n",
    "    ) returns (\n",
    "        p1_id text, p2_id text, label int, rule_id text\n",
    "    )\n",
    "    implementation \"udf/supervise_spouse.py\" handles tsj lines.\n",
    "\n",
    "spouse_label += supervise(\n",
    "    p1_id, p1_begin, p1_end,\n",
    "    p2_id, p2_begin, p2_end,\n",
    "    doc_id, sentence_index,\n",
    "    tokens, lemmas, pos_tags, ner_tags, dep_types, dep_token_indexes\n",
    ") :-\n",
    "    spouse_candidate(p1_id, _, p2_id, _),\n",
    "    person_mention(p1_id, p1_text, doc_id, sentence_index, p1_begin, p1_end),\n",
    "    person_mention(p2_id, p2_text,      _,              _, p2_begin, p2_end),\n",
    "    sentences(\n",
    "        doc_id, sentence_index,\n",
    "        tokens, lemmas, pos_tags, ner_tags, _, dep_types, dep_token_indexes\n",
    "    ).\n"
   ]
  },
  {
   "cell_type": "markdown",
   "metadata": {},
   "source": [
    "The Python UDF named [`udf/supervise_spouse.py`](udf/supervise_spouse.py) contains several heuristic rules:\n",
    "\n",
    "* Candidates with person mentions that are too far apart in the sentence are marked as false.\n",
    "* Candidates with person mentions that have another person in between are marked as false.\n",
    "* Candidates with person mentions that have words like \"wife\" or \"husband\" in between are marked as true.\n",
    "* Candidates with person mentions that have \"and\" in between and \"married\" after are marked as true.\n",
    "* Candidates with person mentions that have familial relation words in between are marked as false.\n"
   ]
  },
  {
   "cell_type": "code",
   "execution_count": 48,
   "metadata": {
    "collapsed": false
   },
   "outputs": [
    {
     "name": "stdout",
     "output_type": "stream",
     "text": [
      "Writing udf/supervise_spouse.py\n"
     ]
    }
   ],
   "source": [
    "%%file udf/supervise_spouse.py\n",
    "#!/usr/bin/env python\n",
    "from deepdive import *\n",
    "import random\n",
    "from collections import namedtuple\n",
    "\n",
    "SpouseLabel = namedtuple('SpouseLabel', 'p1_id, p2_id, label, type')\n",
    "\n",
    "@tsj_extractor\n",
    "@returns(lambda\n",
    "        p1_id   = \"text\",\n",
    "        p2_id   = \"text\",\n",
    "        label   = \"int\",\n",
    "        rule_id = \"text\",\n",
    "    :[])\n",
    "# heuristic rules for finding positive/negative examples of spouse relationship mentions\n",
    "def supervise(\n",
    "        p1_id=\"text\", p1_begin=\"int\", p1_end=\"int\",\n",
    "        p2_id=\"text\", p2_begin=\"int\", p2_end=\"int\",\n",
    "        doc_id=\"text\", sentence_index=\"int\",\n",
    "        tokens=\"text[]\", lemmas=\"text[]\", pos_tags=\"text[]\", ner_tags=\"text[]\",\n",
    "        dep_types=\"text[]\", dep_token_indexes=\"int[]\",\n",
    "    ):\n",
    "\n",
    "    # Constants\n",
    "    MARRIED = frozenset([\"wife\", \"husband\"])\n",
    "    FAMILY = frozenset([\"mother\", \"father\", \"sister\", \"brother\", \"brother-in-law\"])\n",
    "    MAX_DIST = 10\n",
    "\n",
    "    # Common data objects\n",
    "    p1_end_idx = min(p1_end, p2_end)\n",
    "    p2_start_idx = max(p1_begin, p2_begin)\n",
    "    p2_end_idx = max(p1_end,p2_end)\n",
    "    intermediate_lemmas = lemmas[p1_end_idx+1:p2_start_idx]\n",
    "    intermediate_ner_tags = ner_tags[p1_end_idx+1:p2_start_idx]\n",
    "    tail_lemmas = lemmas[p2_end_idx+1:]\n",
    "    spouse = SpouseLabel(p1_id=p1_id, p2_id=p2_id, label=None, type=None)\n",
    "\n",
    "    # Rule: Candidates that are too far apart\n",
    "    if len(intermediate_lemmas) > MAX_DIST:\n",
    "        yield spouse._replace(label=-1, type='neg:far_apart')\n",
    "\n",
    "    # Rule: Candidates that have a third person in between\n",
    "    if 'PERSON' in intermediate_ner_tags:\n",
    "        yield spouse._replace(label=-1, type='neg:third_person_between')\n",
    "\n",
    "    # Rule: Sentences that contain wife/husband in between\n",
    "    #         (<P1>)([ A-Za-z]+)(wife|husband)([ A-Za-z]+)(<P2>)\n",
    "    if len(MARRIED.intersection(intermediate_lemmas)) > 0:\n",
    "        yield spouse._replace(label=1, type='pos:wife_husband_between')\n",
    "\n",
    "    # Rule: Sentences that contain and ... married\n",
    "    #         (<P1>)(and)?(<P2>)([ A-Za-z]+)(married)\n",
    "    if (\"and\" in intermediate_lemmas) and (\"married\" in tail_lemmas):\n",
    "        yield spouse._replace(label=1, type='pos:married_after')\n",
    "\n",
    "    # Rule: Sentences that contain familial relations:\n",
    "    #         (<P1>)([ A-Za-z]+)(brother|stster|father|mother)([ A-Za-z]+)(<P2>)\n",
    "    if len(FAMILY.intersection(intermediate_lemmas)) > 0:\n",
    "        yield spouse._replace(label=-1, type='neg:familial_between')\n"
   ]
  },
  {
   "cell_type": "code",
   "execution_count": 49,
   "metadata": {
    "collapsed": true
   },
   "outputs": [],
   "source": [
    "!chmod +x udf/supervise_spouse.py"
   ]
  },
  {
   "cell_type": "markdown",
   "metadata": {},
   "source": [
    "Note that the rough theory behind this approach is that we don't need high-quality (e.g., hand-labeled) supervision to learn a high quality model.\n",
    "Instead, using statistical learning, we can in fact recover high-quality models from a large set of low-quality or **_noisy_** labels.\n"
   ]
  },
  {
   "cell_type": "markdown",
   "metadata": {},
   "source": [
    "### 2.3. Resolving multiple labels per example with majority vote\n",
    "Finally, we implement a very simple majority vote procedure, all in DDlog, for resolving scenarios where a single spouse candidate mention has multiple conflicting labels.\n",
    "First, we sum the labels (which are all -1, 0, or 1):\n",
    "\n"
   ]
  },
  {
   "cell_type": "code",
   "execution_count": 50,
   "metadata": {
    "collapsed": false
   },
   "outputs": [
    {
     "name": "stdout",
     "output_type": "stream",
     "text": [
      "Appending to app.ddlog\n"
     ]
    }
   ],
   "source": [
    "%%file -a app.ddlog\n",
    "\n",
    "# resolve multiple labels by majority vote (summing the labels in {-1,0,1})\n",
    "spouse_label_resolved(p1_id, p2_id, SUM(vote)) :-\n",
    "    spouse_label(p1_id, p2_id, vote, rule_id).\n"
   ]
  },
  {
   "cell_type": "markdown",
   "metadata": {},
   "source": [
    "Then, we simply threshold and add these labels to our decision variable table `has_spouse` (see next section for details here):\n"
   ]
  },
  {
   "cell_type": "code",
   "execution_count": 51,
   "metadata": {
    "collapsed": false
   },
   "outputs": [
    {
     "name": "stdout",
     "output_type": "stream",
     "text": [
      "Appending to app.ddlog\n"
     ]
    }
   ],
   "source": [
    "%%file -a app.ddlog\n",
    "\n",
    "# assign the resolved labels for the spouse relation\n",
    "has_spouse(p1_id, p2_id) = if l > 0 then TRUE\n",
    "                      else if l < 0 then FALSE\n",
    "                      else NULL end :- spouse_label_resolved(p1_id, p2_id, l)."
   ]
  },
  {
   "cell_type": "markdown",
   "metadata": {},
   "source": [
    "Once again, to execute all of the above, just run the following command:"
   ]
  },
  {
   "cell_type": "code",
   "execution_count": 52,
   "metadata": {
    "collapsed": false,
    "scrolled": false
   },
   "outputs": [
    {
     "name": "stdout",
     "output_type": "stream",
     "text": [
      "\u001b[33mapp.ddlog: updated since last `deepdive compile`\n",
      "\u001b[0m‘run/compiled’ -> ‘20160710/234225.535445000’\n",
      "‘run/RUNNING’ -> ‘20160710/234227.371331000’\n",
      "2016-07-10 23:42:28.369152 process/ext_spouse_label__0_by_supervise/run.sh\n",
      "2016-07-10 23:42:31.175608 deepdive mark 'done' data/spouse_label__0\n",
      "2016-07-10 23:42:31.259117 process/ext_spouse_label/run.sh\n",
      "2016-07-10 23:42:31.533175 deepdive mark 'done' data/spouse_label\n",
      "2016-07-10 23:42:31.616442 process/ext_spouse_label_resolved/run.sh\n",
      "2016-07-10 23:42:31.842406 deepdive mark 'done' data/spouse_label_resolved\n",
      "2016-07-10 23:42:31.927572 process/ext_has_spouse/run.sh\n",
      "2016-07-10 23:42:32.152947 deepdive mark 'done' data/has_spouse\n",
      "‘run/FINISHED’ -> ‘20160710/234227.371331000’\n"
     ]
    }
   ],
   "source": [
    "!deepdive redo has_spouse"
   ]
  },
  {
   "cell_type": "markdown",
   "metadata": {},
   "source": [
    "Recall that `deepdive do` will execute all upstream tasks as well, so this will execute all of the previous steps!\n",
    "\n",
    "Now, we can take a brief look at how many candidates are supervised by different rules, which will look something like the table below.\n",
    "Obviously, the counts will vary depending on your input corpus."
   ]
  },
  {
   "cell_type": "code",
   "execution_count": 53,
   "metadata": {
    "collapsed": false
   },
   "outputs": [
    {
     "name": "stdout",
     "output_type": "stream",
     "text": [
      "           rule           | COUNT(1) \r\n",
      "--------------------------+----------\r\n",
      " neg:familial_between     |       26\r\n",
      " pos:wife_husband_between |       49\r\n",
      " neg:third_person_between |      174\r\n",
      " neg:far_apart            |      240\r\n",
      "                          |      637\r\n",
      "(5 rows)\r\n",
      "\r\n"
     ]
    }
   ],
   "source": [
    "!deepdive query 'rule, @order_by COUNT(1) ?- spouse_label(p1,p2, label, rule).'"
   ]
  },
  {
   "cell_type": "markdown",
   "metadata": {},
   "source": [
    "## 3. Learning and inference: model specification\n",
    "Now, we need to specify the actual model that DeepDive will perform learning and inference over.\n",
    "At a high level, this boils down to specifying three things:\n",
    "\n",
    "1. What are the _variables_ of interest that we want DeepDive to predict for us?\n",
    "\n",
    "2. What are the _features_ for each of these variables?\n",
    "\n",
    "3. What are the _connections_ between the variables?\n",
    "\n",
    "One we have specified the model in this way, DeepDive will _learn_ the parameters of the model (the weights of the features and potentially the connections between variables), and then perform _statistical inference_ over the learned model to determine the probability that each variable of interest is true.\n",
    "\n",
    "For more advanced users: we are specifying a _factor graph_ where the features are unary factors, and then using SGD and Gibbs sampling for learning and inference.\n",
    "Further technical detail is available [here](#).\n"
   ]
  },
  {
   "cell_type": "markdown",
   "metadata": {},
   "source": [
    "### 3.1. Specifying prediction variables\n",
    "In our case, we have one variable to predict per spouse candidate mention, namely, **is this mention actually indicating a spousal relation or not?**\n",
    "In other words, we want DeepDive to predict the value of a Boolean variable for each spouse candidate mention, indicating whether it is true or not.\n",
    "Recall that we started this tutorial with specifying this at the beginning of [`app.ddlog`](app.ddlog) as follows:\n",
    "\n",
    "```ddlog\n",
    "has_spouse?(\n",
    "    p1_id text,\n",
    "    p2_id text\n",
    ").\n",
    "```\n",
    "\n",
    "DeepDive will predict not only the value of these variables, but also the marginal probabilities, i.e., the confidence level that DeepDive has for each individual prediction."
   ]
  },
  {
   "cell_type": "markdown",
   "metadata": {},
   "source": [
    "### 3.2. Specifying features\n",
    "Next, we indicate (i) that each `has_spouse` variable will be connected to the features of the corresponding `spouse_candidate` row, (ii) that we wish DeepDive to learn the weights of these features from our distantly supervised data, and (iii) that the weight of a specific feature across all instances should be the same, as follows:\n"
   ]
  },
  {
   "cell_type": "code",
   "execution_count": 54,
   "metadata": {
    "collapsed": false
   },
   "outputs": [
    {
     "name": "stdout",
     "output_type": "stream",
     "text": [
      "Appending to app.ddlog\n"
     ]
    }
   ],
   "source": [
    "%%file -a app.ddlog\n",
    "\n",
    "## Inference Rules ############################################################\n",
    " \n",
    "# Features\n",
    "@weight(f)\n",
    "has_spouse(p1_id, p2_id) :-\n",
    "    spouse_feature(p1_id, p2_id, f).\n"
   ]
  },
  {
   "cell_type": "markdown",
   "metadata": {},
   "source": [
    "### 3.3. Specifying connections between variables\n",
    "Finally, we can specify dependencies between the prediction variables, with either learned or given weights.\n",
    "Here, we'll specify two such rules, with fixed (given) weights that we specify.\n",
    "First, we define a _symmetry_ connection, namely specifying that if the model thinks a person mention `p1` and a person mention `p2` indicate a spousal relationship in a sentence, then it should also think that the reverse is true, i.e., that `p2` and `p1` indicate one too:"
   ]
  },
  {
   "cell_type": "code",
   "execution_count": 55,
   "metadata": {
    "collapsed": false
   },
   "outputs": [
    {
     "name": "stdout",
     "output_type": "stream",
     "text": [
      "Appending to app.ddlog\n"
     ]
    }
   ],
   "source": [
    "%%file -a app.ddlog\n",
    "\n",
    "# Inference rule: Symmetry\n",
    "@weight(3.0)\n",
    "has_spouse(p1_id, p2_id) => has_spouse(p2_id, p1_id) :-\n",
    "    TRUE.\n"
   ]
  },
  {
   "cell_type": "markdown",
   "metadata": {},
   "source": [
    "Next, we specify a rule that the model should be strongly biased towards finding one marriage indication per person mention.\n",
    "We do this inversely, using a negative weight, as follows:"
   ]
  },
  {
   "cell_type": "code",
   "execution_count": 56,
   "metadata": {
    "collapsed": false
   },
   "outputs": [
    {
     "name": "stdout",
     "output_type": "stream",
     "text": [
      "Appending to app.ddlog\n"
     ]
    }
   ],
   "source": [
    "%%file -a app.ddlog\n",
    "\n",
    "# Inference rule: Only one marriage\n",
    "@weight(-1.0)\n",
    "has_spouse(p1_id, p2_id) => has_spouse(p1_id, p3_id) :-\n",
    "    TRUE.\n"
   ]
  },
  {
   "cell_type": "markdown",
   "metadata": {},
   "source": [
    "### 3.4. Performing learning and inference\n",
    "\n",
    "Finally, to perform learning and inference using the specified model, we need to run the following command:\n"
   ]
  },
  {
   "cell_type": "code",
   "execution_count": 57,
   "metadata": {
    "collapsed": false,
    "scrolled": false
   },
   "outputs": [
    {
     "name": "stdout",
     "output_type": "stream",
     "text": [
      "\u001b[33mapp.ddlog: updated since last `deepdive compile`\n",
      "\u001b[0m‘run/compiled’ -> ‘20160710/234237.974276000’\n",
      "‘run/RUNNING’ -> ‘20160710/234240.126023000’\n",
      "2016-07-10 23:42:42.168806 process/grounding/from_grounding/run.sh\n",
      "2016-07-10 23:42:42.225627 process/grounding/variable/has_spouse/materialize/run.sh\n",
      "2016-07-10 23:42:47.441541 process/grounding/variable_id_partition/run.sh\n",
      "2016-07-10 23:42:47.664407 process/grounding/variable/has_spouse/assign_id/run.sh\n",
      "2016-07-10 23:42:47.903671 process/grounding/factor/inf1_imply_has_spouse_has_spouse/materialize/run.sh\n",
      "2016-07-10 23:42:57.869311 process/grounding/factor/inf_imply_has_spouse_has_spouse/materialize/run.sh\n",
      "2016-07-10 23:43:07.648401 process/grounding/factor/inf_istrue_has_spouse/materialize/run.sh\n",
      "2016-07-10 23:43:12.971945 process/grounding/weight_id_partition/run.sh\n",
      "2016-07-10 23:43:13.380564 process/grounding/factor/inf1_imply_has_spouse_has_spouse/assign_weight_id/run.sh\n",
      "2016-07-10 23:43:13.681460 process/grounding/factor/inf1_imply_has_spouse_has_spouse/dump/run.sh\n",
      "2016-07-10 23:43:14.177941 process/grounding/factor/inf1_imply_has_spouse_has_spouse/dump_weights/run.sh\n",
      "2016-07-10 23:43:14.650580 process/grounding/factor/inf_imply_has_spouse_has_spouse/assign_weight_id/run.sh\n",
      "2016-07-10 23:43:14.946854 process/grounding/factor/inf_imply_has_spouse_has_spouse/dump/run.sh\n",
      "2016-07-10 23:43:16.403168 process/grounding/factor/inf_imply_has_spouse_has_spouse/dump_weights/run.sh\n",
      "2016-07-10 23:43:16.877697 process/grounding/factor/inf_istrue_has_spouse/assign_weight_id/run.sh\n",
      "2016-07-10 23:43:17.513044 process/grounding/factor/inf_istrue_has_spouse/dump/run.sh\n",
      "2016-07-10 23:43:18.041398 process/grounding/factor/inf_istrue_has_spouse/dump_weights/run.sh\n",
      "2016-07-10 23:43:18.525649 process/grounding/global_weight_table/run.sh\n",
      "2016-07-10 23:43:18.754495 process/grounding/variable_holdout/run.sh\n",
      "2016-07-10 23:43:19.565378 process/grounding/variable/has_spouse/dump/run.sh\n",
      "2016-07-10 23:43:20.039469 process/grounding/combine_factorgraph/run.sh\n",
      "2016-07-10 23:43:20.231212 process/model/learning/run.sh\n",
      "2016-07-10 23:43:21.292946 process/model/inference/run.sh\n",
      "2016-07-10 23:43:21.410197 process/model/load_probabilities/run.sh\n",
      "2016-07-10 23:43:22.246609 deepdive mark 'done' data/model/probabilities\n",
      "‘run/FINISHED’ -> ‘20160710/234240.126023000’\n"
     ]
    }
   ],
   "source": [
    "!deepdive redo probabilities"
   ]
  },
  {
   "cell_type": "markdown",
   "metadata": {},
   "source": [
    "This will ground the model based on the data in the database, learn the weights, infer the expectations or marginal probabilities of the variables in the model, and then load them back to the database.\n",
    "\n",
    "Let's take a look at the probabilities inferred by DeepDive for the `has_spouse` variables."
   ]
  },
  {
   "cell_type": "code",
   "execution_count": 59,
   "metadata": {
    "collapsed": false
   },
   "outputs": [
    {
     "name": "stdout",
     "output_type": "stream",
     "text": [
      "                     p1_id                      |                     p2_id                     | expectation \r\n",
      "------------------------------------------------+-----------------------------------------------+-------------\r\n",
      " 693ae030-4239-4291-b248-dbf7c1696ff2_16_27_27  | 693ae030-4239-4291-b248-dbf7c1696ff2_16_7_8   |       0.002\r\n",
      " b4968e78-ec5a-466e-863f-fef18e8ae99d_35_34_34  | b4968e78-ec5a-466e-863f-fef18e8ae99d_35_49_49 |       0.001\r\n",
      " c5f8a528-cc0f-4f3e-aaef-b9e3b6b00325_4_16_17   | c5f8a528-cc0f-4f3e-aaef-b9e3b6b00325_4_2_3    |       0.021\r\n",
      " 9662058b-fca5-4771-8058-c7fd7bd548a3_3_0_1     | 9662058b-fca5-4771-8058-c7fd7bd548a3_3_14_15  |       0.002\r\n",
      " 9b28e780-ba48-4a53-8682-7c58c141a1b6_12_26_26  | 9b28e780-ba48-4a53-8682-7c58c141a1b6_12_8_8   |       0.001\r\n",
      " 9662058b-fca5-4771-8058-c7fd7bd548a3_84_0_0    | 9662058b-fca5-4771-8058-c7fd7bd548a3_84_2_2   |        0.01\r\n",
      " f6e047d0-e409-42a6-ab0e-13ab926719a6_13_23_24  | f6e047d0-e409-42a6-ab0e-13ab926719a6_13_29_29 |       0.884\r\n",
      " dbc798be-9a6e-48b7-8721-31f84e89c10b_60_16_16  | dbc798be-9a6e-48b7-8721-31f84e89c10b_60_6_7   |       0.009\r\n",
      " dbc798be-9a6e-48b7-8721-31f84e89c10b_281_10_10 | dbc798be-9a6e-48b7-8721-31f84e89c10b_281_2_2  |       0.001\r\n",
      " 183de50d-7772-44a2-9801-0739ef896f3e_13_11_12  | 183de50d-7772-44a2-9801-0739ef896f3e_13_9_9   |       0.072\r\n",
      " 8232e1c2-f5f2-4b86-88d0-4ec5a420dced_6_0_1     | 8232e1c2-f5f2-4b86-88d0-4ec5a420dced_6_11_11  |       0.932\r\n",
      " 3deea828-e3a1-4c4d-9a90-482cabc020d8_19_26_26  | 3deea828-e3a1-4c4d-9a90-482cabc020d8_19_5_5   |       0.001\r\n",
      " dbc798be-9a6e-48b7-8721-31f84e89c10b_29_15_16  | dbc798be-9a6e-48b7-8721-31f84e89c10b_29_4_6   |       0.003\r\n",
      " 328623e0-52f3-44a6-b66b-496cd9d93762_9_10_10   | 328623e0-52f3-44a6-b66b-496cd9d93762_9_4_5    |       0.011\r\n",
      " ddf3dfd2-cc21-46ca-a0e7-bd66eeb6bec6_26_2_2    | ddf3dfd2-cc21-46ca-a0e7-bd66eeb6bec6_26_8_8   |       0.002\r\n",
      " dd970ef6-ebd2-4be8-9226-7a3a6129891a_11_0_1    | dd970ef6-ebd2-4be8-9226-7a3a6129891a_11_4_5   |       0.021\r\n",
      " 0a74a914-54fb-47bc-acae-5dcd10ed5c3d_5_25_25   | 0a74a914-54fb-47bc-acae-5dcd10ed5c3d_5_3_3    |       0.001\r\n",
      " 4336860e-fa87-4f54-b3ce-b4afb72c4acd_26_10_11  | 4336860e-fa87-4f54-b3ce-b4afb72c4acd_26_7_8   |       0.057\r\n",
      " 183de50d-7772-44a2-9801-0739ef896f3e_12_11_12  | 183de50d-7772-44a2-9801-0739ef896f3e_12_5_5   |       0.005\r\n",
      " 4336860e-fa87-4f54-b3ce-b4afb72c4acd_15_1_1    | 4336860e-fa87-4f54-b3ce-b4afb72c4acd_15_3_3   |       0.019\r\n",
      "(20 rows)\r\n",
      "\r\n"
     ]
    }
   ],
   "source": [
    "!deepdive sql 'SELECT p1_id, p2_id, expectation FROM has_spouse_inference ORDER BY random() LIMIT 20'"
   ]
  },
  {
   "cell_type": "code",
   "execution_count": null,
   "metadata": {
    "collapsed": true
   },
   "outputs": [],
   "source": []
  }
 ],
 "metadata": {
  "celltoolbar": "Raw Cell Format",
  "kernelspec": {
   "display_name": "Python 2",
   "language": "python",
   "name": "python2"
  },
  "language_info": {
   "codemirror_mode": {
    "name": "ipython",
    "version": 2
   },
   "file_extension": ".py",
   "mimetype": "text/x-python",
   "name": "python",
   "nbconvert_exporter": "python",
   "pygments_lexer": "ipython2",
   "version": "2.7.10"
  }
 },
 "nbformat": 4,
 "nbformat_minor": 0
}
